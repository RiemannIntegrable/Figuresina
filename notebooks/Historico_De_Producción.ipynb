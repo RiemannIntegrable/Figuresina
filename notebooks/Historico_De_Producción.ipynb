{
 "cells": [
  {
   "cell_type": "markdown",
   "metadata": {},
   "source": [
    "# Librerias"
   ]
  },
  {
   "cell_type": "code",
   "execution_count": 97,
   "metadata": {},
   "outputs": [],
   "source": [
    "import pandas as pd\n",
    "import numpy as np\n",
    "import matplotlib.pyplot as plt\n",
    "import seaborn as sns\n",
    "import openpyxl\n",
    "import warnings\n",
    "warnings.filterwarnings(\"ignore\", category=UserWarning, module=\"openpyxl\")"
   ]
  },
  {
   "cell_type": "markdown",
   "metadata": {},
   "source": [
    "# Extracción de la información"
   ]
  },
  {
   "cell_type": "code",
   "execution_count": 98,
   "metadata": {},
   "outputs": [],
   "source": [
    "hojas = pd.read_excel('/root/Proyectos/Figuresina/data/Figuresina.xlsx', sheet_name=None)"
   ]
  },
  {
   "cell_type": "code",
   "execution_count": 99,
   "metadata": {},
   "outputs": [],
   "source": [
    "Referencias = hojas['Referencias']\n",
    "Clientes = hojas['Clientes']\n",
    "Proveedores = hojas['Proveedores']\n",
    "Empleados = hojas['Empleados']\n",
    "Ventas = hojas['Ventas']\n",
    "Gastos = hojas['Gastos']\n",
    "Fundida = hojas['Fundida']\n",
    "Pulida = hojas['Pulida']\n",
    "Pintura = hojas['Pintura']\n",
    "Empaque = hojas['Empaque']"
   ]
  },
  {
   "cell_type": "code",
   "execution_count": 100,
   "metadata": {},
   "outputs": [],
   "source": [
    "df_Referencias = Referencias.copy()\n",
    "df_Clientes = Clientes.copy()\n",
    "df_Proveedores = Proveedores.copy()\n",
    "df_Empleados = Empleados[Empleados['Estado']=='Activo'].copy()\n",
    "\n",
    "df_Ventas = Ventas.drop(columns=['Valor total']).copy()\n",
    "df_Ventas['Valor Total'] = df_Ventas['Cantidad'] * df_Ventas['Valor u.']\n",
    "df_Ventas['Año-Semana'] = df_Ventas['Fecha'].dt.year.astype(str) + '-' + df_Ventas['Fecha'].dt.isocalendar().week.astype(str)\n",
    "df_Ventas.drop(columns=['Fecha'], inplace=True)\n",
    "\n",
    "df_Gastos = Gastos.drop(columns=['Valor Total']).copy()\n",
    "df_Gastos['Valor Total'] = df_Gastos['Cantidad'] * df_Gastos['Valor por u.']\n",
    "df_Gastos['Año-Semana'] = df_Gastos['Fecha'].dt.year.astype(str) + '-' + df_Gastos['Fecha'].dt.isocalendar().week.astype(str)\n",
    "df_Gastos.drop(columns=['Fecha'], inplace=True)\n",
    "\n",
    "df_Fundida = Fundida.copy()\n",
    "df_Fundida['Año-Semana'] = df_Fundida['Fecha'].dt.year.astype(str) + '-' + df_Fundida['Fecha'].dt.isocalendar().week.astype(str)\n",
    "df_Fundida.drop(columns=['Fecha'], inplace=True)\n",
    "\n",
    "df_Pulida = Pulida.copy()\n",
    "df_Pulida['Año-Semana'] = df_Pulida['Fecha'].dt.year.astype(str) + '-' + df_Pulida['Fecha'].dt.isocalendar().week.astype(str)\n",
    "df_Pulida.drop(columns=['Fecha'], inplace=True)\n",
    "\n",
    "df_Pintura = Pintura.copy()\n",
    "df_Pintura['Año-Semana'] = df_Pintura['Fecha'].dt.year.astype(str) + '-' + df_Pintura['Fecha'].dt.isocalendar().week.astype(str)\n",
    "df_Pintura.drop(columns=['Fecha'], inplace=True)\n",
    "\n",
    "df_Empaque = Empaque.copy()\n",
    "df_Empaque['Año-Semana'] = df_Empaque['Fecha'].dt.year.astype(str) + '-' + df_Empaque['Fecha'].dt.isocalendar().week.astype(str)\n",
    "df_Empaque.drop(columns=['Fecha'], inplace=True)"
   ]
  },
  {
   "cell_type": "markdown",
   "metadata": {},
   "source": [
    "# Valores nulos"
   ]
  },
  {
   "cell_type": "code",
   "execution_count": 101,
   "metadata": {},
   "outputs": [],
   "source": [
    "if df_Ventas.isnull().astype(int).sum().sum() != 0:\n",
    "    print('Hay valores nulos en la hoja de Ventas. Llene correctamente la hoja antes de mirar los resultados porque no seran validos')\n",
    "\n",
    "df_Ventas.dropna(inplace=True)"
   ]
  },
  {
   "cell_type": "code",
   "execution_count": 102,
   "metadata": {},
   "outputs": [],
   "source": [
    "if df_Gastos.isnull().astype(int).sum().sum() != 0:\n",
    "    print('Hay valores nulos en la hoja de Gastos. Llene correctamente la hoja antes de mirar los resultados porque no seran validos')\n",
    "\n",
    "df_Gastos.dropna(inplace=True)"
   ]
  },
  {
   "cell_type": "code",
   "execution_count": 103,
   "metadata": {},
   "outputs": [],
   "source": [
    "if df_Fundida.isnull().astype(int).sum().sum() != 0:\n",
    "    print('Hay valores nulos en la hoja de Fundida. Llene correctamente la hoja antes de mirar los resultados porque no seran validos')\n",
    "\n",
    "df_Fundida.dropna(inplace=True)"
   ]
  },
  {
   "cell_type": "code",
   "execution_count": 104,
   "metadata": {},
   "outputs": [],
   "source": [
    "if df_Pulida.isnull().astype(int).sum().sum() != 0:\n",
    "    print('Hay valores nulos en la hoja de Pulida. Llene correctamente la hoja antes de mirar los resultados porque no seran validos')\n",
    "\n",
    "df_Pulida.dropna(inplace=True)"
   ]
  },
  {
   "cell_type": "code",
   "execution_count": 105,
   "metadata": {},
   "outputs": [],
   "source": [
    "if df_Pintura.isnull().astype(int).sum().sum() != 0:\n",
    "    print('Hay valores nulos en la hoja de Pintura. Llene correctamente la hoja antes de mirar los resultados porque no seran validos')\n",
    "\n",
    "df_Pintura.dropna(inplace=True)"
   ]
  },
  {
   "cell_type": "code",
   "execution_count": 106,
   "metadata": {},
   "outputs": [],
   "source": [
    "if df_Empaque.isnull().astype(int).sum().sum() != 0:\n",
    "    print('Hay valores nulos en la hoja de Empaque. Llene correctamente la hoja antes de mirar los resultados porque no seran validos')\n",
    "\n",
    "df_Empaque.dropna(inplace=True)"
   ]
  },
  {
   "cell_type": "code",
   "execution_count": 107,
   "metadata": {},
   "outputs": [],
   "source": [
    "if Ventas.isnull().astype(int).sum().sum() != 0:\n",
    "    print('Hay valores nulos en la hoja de Ventas. Llene correctamente la hoja antes de mirar los resultados porque no seran validos')\n",
    "\n",
    "Ventas.dropna(inplace=True)"
   ]
  },
  {
   "cell_type": "code",
   "execution_count": 108,
   "metadata": {},
   "outputs": [],
   "source": [
    "if Gastos.isnull().astype(int).sum().sum() != 0:\n",
    "    print('Hay valores nulos en la hoja de Gastos. Llene correctamente la hoja antes de mirar los resultados porque no seran validos')\n",
    "\n",
    "Gastos.dropna(inplace=True)"
   ]
  },
  {
   "cell_type": "code",
   "execution_count": 109,
   "metadata": {},
   "outputs": [],
   "source": [
    "if Fundida.isnull().astype(int).sum().sum() != 0:\n",
    "    print('Hay valores nulos en la hoja de Fundida. Llene correctamente la hoja antes de mirar los resultados porque no seran validos')\n",
    "\n",
    "Fundida.dropna(inplace=True)"
   ]
  },
  {
   "cell_type": "code",
   "execution_count": 110,
   "metadata": {},
   "outputs": [],
   "source": [
    "if Pulida.isnull().astype(int).sum().sum() != 0:\n",
    "    print('Hay valores nulos en la hoja de Pulida. Llene correctamente la hoja antes de mirar los resultados porque no seran validos')\n",
    "\n",
    "Pulida.dropna(inplace=True)"
   ]
  },
  {
   "cell_type": "code",
   "execution_count": 111,
   "metadata": {},
   "outputs": [],
   "source": [
    "if Pintura.isnull().astype(int).sum().sum() != 0:\n",
    "    print('Hay valores nulos en la hoja de Pintura. Llene correctamente la hoja antes de mirar los resultados porque no seran validos')\n",
    "\n",
    "Pintura.dropna(inplace=True)"
   ]
  },
  {
   "cell_type": "code",
   "execution_count": 112,
   "metadata": {},
   "outputs": [],
   "source": [
    "if Empaque.isnull().astype(int).sum().sum() != 0:\n",
    "    print('Hay valores nulos en la hoja de Empaque. Llene correctamente la hoja antes de mirar los resultados porque no seran validos')\n",
    "\n",
    "Empaque.dropna(inplace=True)"
   ]
  },
  {
   "cell_type": "markdown",
   "metadata": {},
   "source": [
    "# Histórico de Fundida"
   ]
  },
  {
   "cell_type": "code",
   "execution_count": null,
   "metadata": {},
   "outputs": [],
   "source": []
  },
  {
   "cell_type": "markdown",
   "metadata": {},
   "source": [
    "# Histórico de Pulida"
   ]
  },
  {
   "cell_type": "code",
   "execution_count": null,
   "metadata": {},
   "outputs": [],
   "source": []
  },
  {
   "cell_type": "markdown",
   "metadata": {},
   "source": [
    "# Histórico de Pintura"
   ]
  },
  {
   "cell_type": "code",
   "execution_count": null,
   "metadata": {},
   "outputs": [],
   "source": []
  },
  {
   "cell_type": "markdown",
   "metadata": {},
   "source": [
    "# Histórico de Empaque"
   ]
  },
  {
   "cell_type": "code",
   "execution_count": null,
   "metadata": {},
   "outputs": [],
   "source": []
  },
  {
   "cell_type": "markdown",
   "metadata": {},
   "source": [
    "# Histórico de Gastos"
   ]
  },
  {
   "cell_type": "code",
   "execution_count": null,
   "metadata": {},
   "outputs": [],
   "source": []
  },
  {
   "cell_type": "markdown",
   "metadata": {},
   "source": [
    "# Histórico de Ventas"
   ]
  },
  {
   "cell_type": "code",
   "execution_count": null,
   "metadata": {},
   "outputs": [],
   "source": []
  },
  {
   "cell_type": "markdown",
   "metadata": {},
   "source": [
    "# Histórico de Gastos"
   ]
  },
  {
   "cell_type": "code",
   "execution_count": null,
   "metadata": {},
   "outputs": [],
   "source": []
  },
  {
   "cell_type": "markdown",
   "metadata": {},
   "source": [
    "# Hitórico de Ingresos"
   ]
  },
  {
   "cell_type": "code",
   "execution_count": null,
   "metadata": {},
   "outputs": [],
   "source": []
  }
 ],
 "metadata": {
  "kernelspec": {
   "display_name": "base",
   "language": "python",
   "name": "python3"
  },
  "language_info": {
   "codemirror_mode": {
    "name": "ipython",
    "version": 3
   },
   "file_extension": ".py",
   "mimetype": "text/x-python",
   "name": "python",
   "nbconvert_exporter": "python",
   "pygments_lexer": "ipython3",
   "version": "3.11.9"
  }
 },
 "nbformat": 4,
 "nbformat_minor": 2
}
